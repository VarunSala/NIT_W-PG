{
  "nbformat": 4,
  "nbformat_minor": 0,
  "metadata": {
    "colab": {
      "name": "Assignment-3.ipynb",
      "provenance": [],
      "collapsed_sections": []
    },
    "kernelspec": {
      "name": "python3",
      "display_name": "Python 3"
    },
    "accelerator": "GPU"
  },
  "cells": [
    {
      "cell_type": "code",
      "metadata": {
        "id": "4nsh6yDTIDTS",
        "colab_type": "code",
        "colab": {}
      },
      "source": [
        "import tensorflow as tf\n",
        "import numpy as np\n",
        "import pandas as pd\n",
        "import matplotlib.pyplot as plt"
      ],
      "execution_count": 14,
      "outputs": []
    },
    {
      "cell_type": "markdown",
      "metadata": {
        "id": "itFVz9K3JUsA",
        "colab_type": "text"
      },
      "source": [
        "## Question 1"
      ]
    },
    {
      "cell_type": "code",
      "metadata": {
        "id": "H5jIqK9YIQK7",
        "colab_type": "code",
        "colab": {}
      },
      "source": [
        "from tensorflow.keras.datasets import cifar10\n",
        "(X_train, y_train), (X_test, y_test) = cifar10.load_data()"
      ],
      "execution_count": 15,
      "outputs": []
    },
    {
      "cell_type": "code",
      "metadata": {
        "id": "yFIao3nPI0Z7",
        "colab_type": "code",
        "colab": {
          "base_uri": "https://localhost:8080/",
          "height": 34
        },
        "outputId": "710f384e-37ea-43c5-d908-2ac514841a08"
      },
      "source": [
        "X_train.shape"
      ],
      "execution_count": 16,
      "outputs": [
        {
          "output_type": "execute_result",
          "data": {
            "text/plain": [
              "(50000, 32, 32, 3)"
            ]
          },
          "metadata": {
            "tags": []
          },
          "execution_count": 16
        }
      ]
    },
    {
      "cell_type": "code",
      "metadata": {
        "id": "Zq1nuOFGI8oD",
        "colab_type": "code",
        "colab": {
          "base_uri": "https://localhost:8080/",
          "height": 34
        },
        "outputId": "b2b21d7b-805f-483a-f502-2a261e3107a8"
      },
      "source": [
        "X_test.shape"
      ],
      "execution_count": 17,
      "outputs": [
        {
          "output_type": "execute_result",
          "data": {
            "text/plain": [
              "(10000, 32, 32, 3)"
            ]
          },
          "metadata": {
            "tags": []
          },
          "execution_count": 17
        }
      ]
    },
    {
      "cell_type": "code",
      "metadata": {
        "id": "sO9GkM_IJEE4",
        "colab_type": "code",
        "colab": {}
      },
      "source": [
        "X_train = X_train.astype('float32') / 255\n",
        "X_test = X_test.astype('float32') / 255"
      ],
      "execution_count": 18,
      "outputs": []
    },
    {
      "cell_type": "markdown",
      "metadata": {
        "id": "oYuczEYiJ8Wt",
        "colab_type": "text"
      },
      "source": [
        "## Question 2"
      ]
    },
    {
      "cell_type": "code",
      "metadata": {
        "id": "Xe-jQUHRKRZc",
        "colab_type": "code",
        "colab": {}
      },
      "source": [
        "from tensorflow.keras.models import Sequential\n",
        "from tensorflow.keras.layers import Dense, Conv2D, Flatten, Reshape, MaxPool2D, BatchNormalization, Activation, UpSampling2D, Input\n",
        "from tensorflow.keras.models import Model\n",
        "from keras.optimizers import Adam"
      ],
      "execution_count": 19,
      "outputs": []
    },
    {
      "cell_type": "code",
      "metadata": {
        "id": "4j3ynrxhJ2xF",
        "colab_type": "code",
        "colab": {}
      },
      "source": [
        "## Encoder\n",
        "\n",
        "input_img = Input(shape=(32, 32, 3))\n",
        "encoder = Sequential()\n",
        "## 1st Layer\n",
        "x = Conv2D(filters=64, kernel_size=(3,3), padding='same')(input_img)\n",
        "x = BatchNormalization()(x)\n",
        "x = Activation('relu')(x)\n",
        "x = MaxPool2D(pool_size=(2,2), padding='same')(x)\n",
        "## 2nd Layer\n",
        "x = Conv2D(filters=16, kernel_size=(3,3), padding='same')(x)\n",
        "x = BatchNormalization()(x)\n",
        "x = Activation('relu')(x)\n",
        "encoder = MaxPool2D(pool_size=(2,2), padding='same')(x)"
      ],
      "execution_count": 20,
      "outputs": []
    },
    {
      "cell_type": "code",
      "metadata": {
        "id": "cR8fewMBNXRW",
        "colab_type": "code",
        "colab": {}
      },
      "source": [
        "## Decoder\n",
        "\n",
        "decoder = Sequential()\n",
        "## 1st Layer\n",
        "x = Conv2D(16, kernel_size=(3,3), padding='same')(encoder)\n",
        "x = BatchNormalization()(x)\n",
        "x = Activation('relu')(x)\n",
        "x = UpSampling2D((2,2))(x)\n",
        "## 2nd Layer\n",
        "x = Conv2D(64, (3, 3), padding='same')(x)\n",
        "x = BatchNormalization()(x)\n",
        "x = Activation('relu')(x)\n",
        "x = UpSampling2D((2, 2))(x)\n",
        "x = Conv2D(3, (3, 3), padding='same')(x)\n",
        "x = BatchNormalization()(x)\n",
        "decoder = (Activation('sigmoid'))(x)"
      ],
      "execution_count": 24,
      "outputs": []
    },
    {
      "cell_type": "markdown",
      "metadata": {
        "id": "_bWrfnm3QvD5",
        "colab_type": "text"
      },
      "source": [
        "## Question 3"
      ]
    },
    {
      "cell_type": "code",
      "metadata": {
        "id": "8mfXUhBrQS5-",
        "colab_type": "code",
        "colab": {}
      },
      "source": [
        "model = Model(input_img, decoder)\n",
        "model.compile(optimizer = 'adam', loss ='binary_crossentropy')"
      ],
      "execution_count": 25,
      "outputs": []
    },
    {
      "cell_type": "code",
      "metadata": {
        "id": "wY32yGOQRbkB",
        "colab_type": "code",
        "colab": {
          "base_uri": "https://localhost:8080/",
          "height": 1000
        },
        "outputId": "0f03305f-ac96-4620-fef7-bf803619f161"
      },
      "source": [
        "model.fit(X_train, X_train, epochs =50, batch_size= 1000, validation_data=(X_test, X_test))"
      ],
      "execution_count": 26,
      "outputs": [
        {
          "output_type": "stream",
          "text": [
            "Epoch 1/50\n",
            "50/50 [==============================] - 10s 203ms/step - loss: 0.6011 - val_loss: 0.6666\n",
            "Epoch 2/50\n",
            "50/50 [==============================] - 10s 196ms/step - loss: 0.5785 - val_loss: 0.6676\n",
            "Epoch 3/50\n",
            "50/50 [==============================] - 10s 196ms/step - loss: 0.5732 - val_loss: 0.6632\n",
            "Epoch 4/50\n",
            "50/50 [==============================] - 10s 196ms/step - loss: 0.5698 - val_loss: 0.6526\n",
            "Epoch 5/50\n",
            "50/50 [==============================] - 10s 196ms/step - loss: 0.5676 - val_loss: 0.6401\n",
            "Epoch 6/50\n",
            "50/50 [==============================] - 10s 196ms/step - loss: 0.5660 - val_loss: 0.6280\n",
            "Epoch 7/50\n",
            "50/50 [==============================] - 10s 196ms/step - loss: 0.5647 - val_loss: 0.6120\n",
            "Epoch 8/50\n",
            "50/50 [==============================] - 10s 196ms/step - loss: 0.5637 - val_loss: 0.5963\n",
            "Epoch 9/50\n",
            "50/50 [==============================] - 10s 196ms/step - loss: 0.5629 - val_loss: 0.5821\n",
            "Epoch 10/50\n",
            "50/50 [==============================] - 10s 195ms/step - loss: 0.5622 - val_loss: 0.5751\n",
            "Epoch 11/50\n",
            "50/50 [==============================] - 10s 194ms/step - loss: 0.5616 - val_loss: 0.5684\n",
            "Epoch 12/50\n",
            "50/50 [==============================] - 10s 194ms/step - loss: 0.5611 - val_loss: 0.5646\n",
            "Epoch 13/50\n",
            "50/50 [==============================] - 10s 194ms/step - loss: 0.5606 - val_loss: 0.5634\n",
            "Epoch 14/50\n",
            "50/50 [==============================] - 10s 194ms/step - loss: 0.5601 - val_loss: 0.5610\n",
            "Epoch 15/50\n",
            "50/50 [==============================] - 10s 194ms/step - loss: 0.5598 - val_loss: 0.5607\n",
            "Epoch 16/50\n",
            "50/50 [==============================] - 10s 194ms/step - loss: 0.5594 - val_loss: 0.5603\n",
            "Epoch 17/50\n",
            "50/50 [==============================] - 10s 199ms/step - loss: 0.5591 - val_loss: 0.5599\n",
            "Epoch 18/50\n",
            "50/50 [==============================] - 10s 198ms/step - loss: 0.5588 - val_loss: 0.5597\n",
            "Epoch 19/50\n",
            "50/50 [==============================] - 10s 194ms/step - loss: 0.5585 - val_loss: 0.5593\n",
            "Epoch 20/50\n",
            "50/50 [==============================] - 10s 195ms/step - loss: 0.5582 - val_loss: 0.5591\n",
            "Epoch 21/50\n",
            "50/50 [==============================] - 10s 195ms/step - loss: 0.5580 - val_loss: 0.5590\n",
            "Epoch 22/50\n",
            "50/50 [==============================] - 10s 195ms/step - loss: 0.5578 - val_loss: 0.5586\n",
            "Epoch 23/50\n",
            "50/50 [==============================] - 10s 194ms/step - loss: 0.5576 - val_loss: 0.5589\n",
            "Epoch 24/50\n",
            "50/50 [==============================] - 10s 195ms/step - loss: 0.5574 - val_loss: 0.5584\n",
            "Epoch 25/50\n",
            "50/50 [==============================] - 10s 195ms/step - loss: 0.5572 - val_loss: 0.5581\n",
            "Epoch 26/50\n",
            "50/50 [==============================] - 10s 194ms/step - loss: 0.5570 - val_loss: 0.5582\n",
            "Epoch 27/50\n",
            "50/50 [==============================] - 10s 195ms/step - loss: 0.5568 - val_loss: 0.5580\n",
            "Epoch 28/50\n",
            "50/50 [==============================] - 10s 195ms/step - loss: 0.5567 - val_loss: 0.5579\n",
            "Epoch 29/50\n",
            "50/50 [==============================] - 10s 195ms/step - loss: 0.5565 - val_loss: 0.5584\n",
            "Epoch 30/50\n",
            "50/50 [==============================] - 10s 195ms/step - loss: 0.5564 - val_loss: 0.5575\n",
            "Epoch 31/50\n",
            "50/50 [==============================] - 10s 195ms/step - loss: 0.5562 - val_loss: 0.5575\n",
            "Epoch 32/50\n",
            "50/50 [==============================] - 10s 195ms/step - loss: 0.5561 - val_loss: 0.5575\n",
            "Epoch 33/50\n",
            "50/50 [==============================] - 10s 195ms/step - loss: 0.5560 - val_loss: 0.5574\n",
            "Epoch 34/50\n",
            "50/50 [==============================] - 10s 195ms/step - loss: 0.5559 - val_loss: 0.5568\n",
            "Epoch 35/50\n",
            "50/50 [==============================] - 10s 194ms/step - loss: 0.5558 - val_loss: 0.5583\n",
            "Epoch 36/50\n",
            "50/50 [==============================] - 10s 194ms/step - loss: 0.5556 - val_loss: 0.5575\n",
            "Epoch 37/50\n",
            "50/50 [==============================] - 10s 200ms/step - loss: 0.5555 - val_loss: 0.5571\n",
            "Epoch 38/50\n",
            "50/50 [==============================] - 10s 194ms/step - loss: 0.5555 - val_loss: 0.5586\n",
            "Epoch 39/50\n",
            "50/50 [==============================] - 10s 194ms/step - loss: 0.5553 - val_loss: 0.5565\n",
            "Epoch 40/50\n",
            "50/50 [==============================] - 10s 193ms/step - loss: 0.5553 - val_loss: 0.5578\n",
            "Epoch 41/50\n",
            "50/50 [==============================] - 10s 195ms/step - loss: 0.5552 - val_loss: 0.5567\n",
            "Epoch 42/50\n",
            "50/50 [==============================] - 10s 194ms/step - loss: 0.5551 - val_loss: 0.5567\n",
            "Epoch 43/50\n",
            "50/50 [==============================] - 10s 195ms/step - loss: 0.5550 - val_loss: 0.5568\n",
            "Epoch 44/50\n",
            "50/50 [==============================] - 10s 196ms/step - loss: 0.5549 - val_loss: 0.5566\n",
            "Epoch 45/50\n",
            "50/50 [==============================] - 10s 195ms/step - loss: 0.5549 - val_loss: 0.5559\n",
            "Epoch 46/50\n",
            "50/50 [==============================] - 10s 194ms/step - loss: 0.5548 - val_loss: 0.5562\n",
            "Epoch 47/50\n",
            "50/50 [==============================] - 10s 208ms/step - loss: 0.5547 - val_loss: 0.5563\n",
            "Epoch 48/50\n",
            "50/50 [==============================] - 10s 195ms/step - loss: 0.5546 - val_loss: 0.5562\n",
            "Epoch 49/50\n",
            "50/50 [==============================] - 10s 195ms/step - loss: 0.5546 - val_loss: 0.5558\n",
            "Epoch 50/50\n",
            "50/50 [==============================] - 10s 194ms/step - loss: 0.5545 - val_loss: 0.5559\n"
          ],
          "name": "stdout"
        },
        {
          "output_type": "execute_result",
          "data": {
            "text/plain": [
              "<tensorflow.python.keras.callbacks.History at 0x7fc304ed4da0>"
            ]
          },
          "metadata": {
            "tags": []
          },
          "execution_count": 26
        }
      ]
    }
  ]
}