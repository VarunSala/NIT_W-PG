{
  "nbformat": 4,
  "nbformat_minor": 0,
  "metadata": {
    "colab": {
      "name": "Assignment1.ipynb",
      "provenance": [],
      "collapsed_sections": []
    },
    "kernelspec": {
      "name": "python3",
      "display_name": "Python 3"
    },
    "accelerator": "GPU"
  },
  "cells": [
    {
      "cell_type": "markdown",
      "metadata": {
        "id": "7GvLPFOHL14d",
        "colab_type": "text"
      },
      "source": [
        "Question 1 & 2 (Multi Layer Perceptron)"
      ]
    },
    {
      "cell_type": "code",
      "metadata": {
        "id": "mrqhJuXv8kvT",
        "colab_type": "code",
        "outputId": "547af631-f4fb-404b-f8e0-d900ec87400d",
        "colab": {
          "base_uri": "https://localhost:8080/",
          "height": 50
        }
      },
      "source": [
        "from __future__ import print_function\n",
        "%tensorflow_version 1.x\n",
        "import tensorflow as tf\n",
        "import keras"
      ],
      "execution_count": 1,
      "outputs": [
        {
          "output_type": "stream",
          "text": [
            "TensorFlow 1.x selected.\n"
          ],
          "name": "stdout"
        },
        {
          "output_type": "stream",
          "text": [
            "Using TensorFlow backend.\n"
          ],
          "name": "stderr"
        }
      ]
    },
    {
      "cell_type": "code",
      "metadata": {
        "id": "BeAML0Gc9PEm",
        "colab_type": "code",
        "colab": {}
      },
      "source": [
        "import numpy as np\n",
        "import pandas as pd\n",
        "import matplotlib.pyplot as plt"
      ],
      "execution_count": 0,
      "outputs": []
    },
    {
      "cell_type": "code",
      "metadata": {
        "id": "Hno_kND99PHQ",
        "colab_type": "code",
        "colab": {}
      },
      "source": [
        "plt.rcParams['font.size'] = 14\n",
        "plt.rcParams['axes.grid'] = True"
      ],
      "execution_count": 0,
      "outputs": []
    },
    {
      "cell_type": "code",
      "metadata": {
        "id": "jJBtPcHR9PKK",
        "colab_type": "code",
        "colab": {
          "base_uri": "https://localhost:8080/",
          "height": 151
        },
        "outputId": "47e99cbb-c23c-482b-a0b4-c7e19444240a"
      },
      "source": [
        "from tensorflow.keras.datasets import fashion_mnist\n",
        "(X_train, y_train), (X_test, y_test) = fashion_mnist.load_data()"
      ],
      "execution_count": 4,
      "outputs": [
        {
          "output_type": "stream",
          "text": [
            "Downloading data from https://storage.googleapis.com/tensorflow/tf-keras-datasets/train-labels-idx1-ubyte.gz\n",
            "32768/29515 [=================================] - 0s 0us/step\n",
            "Downloading data from https://storage.googleapis.com/tensorflow/tf-keras-datasets/train-images-idx3-ubyte.gz\n",
            "26427392/26421880 [==============================] - 2s 0us/step\n",
            "Downloading data from https://storage.googleapis.com/tensorflow/tf-keras-datasets/t10k-labels-idx1-ubyte.gz\n",
            "8192/5148 [===============================================] - 0s 0us/step\n",
            "Downloading data from https://storage.googleapis.com/tensorflow/tf-keras-datasets/t10k-images-idx3-ubyte.gz\n",
            "4423680/4422102 [==============================] - 0s 0us/step\n"
          ],
          "name": "stdout"
        }
      ]
    },
    {
      "cell_type": "code",
      "metadata": {
        "id": "1VhHSCfz9uXv",
        "colab_type": "code",
        "outputId": "6aee6da1-ed4b-4dee-93e5-5a7c03513080",
        "colab": {
          "base_uri": "https://localhost:8080/",
          "height": 34
        }
      },
      "source": [
        "X_train.shape"
      ],
      "execution_count": 5,
      "outputs": [
        {
          "output_type": "execute_result",
          "data": {
            "text/plain": [
              "(60000, 28, 28)"
            ]
          },
          "metadata": {
            "tags": []
          },
          "execution_count": 5
        }
      ]
    },
    {
      "cell_type": "code",
      "metadata": {
        "id": "dCWrkXm44qxb",
        "colab_type": "code",
        "colab": {}
      },
      "source": [
        "image = X_train[0]"
      ],
      "execution_count": 0,
      "outputs": []
    },
    {
      "cell_type": "code",
      "metadata": {
        "id": "FNG8SrkU4_-A",
        "colab_type": "code",
        "outputId": "fa3b15bc-dc0d-4e22-dcc1-417420f27127",
        "colab": {
          "base_uri": "https://localhost:8080/",
          "height": 34
        }
      },
      "source": [
        "image.shape"
      ],
      "execution_count": 7,
      "outputs": [
        {
          "output_type": "execute_result",
          "data": {
            "text/plain": [
              "(28, 28)"
            ]
          },
          "metadata": {
            "tags": []
          },
          "execution_count": 7
        }
      ]
    },
    {
      "cell_type": "code",
      "metadata": {
        "id": "Umoz3P985Jg8",
        "colab_type": "code",
        "outputId": "19156cc9-fcd8-4fef-fc9a-30b39cd0f143",
        "colab": {
          "base_uri": "https://localhost:8080/",
          "height": 288
        }
      },
      "source": [
        "plt.imshow(image)"
      ],
      "execution_count": 8,
      "outputs": [
        {
          "output_type": "execute_result",
          "data": {
            "text/plain": [
              "<matplotlib.image.AxesImage at 0x7fb7f4763c50>"
            ]
          },
          "metadata": {
            "tags": []
          },
          "execution_count": 8
        },
        {
          "output_type": "display_data",
          "data": {
            "image/png": "[encoded data removed]",
            "text/plain": [
              "<Figure size 432x288 with 1 Axes>"
            ]
          },
          "metadata": {
            "tags": [],
            "needs_background": "light"
          }
        }
      ]
    },
    {
      "cell_type": "code",
      "metadata": {
        "id": "ofOE1VK09ubM",
        "colab_type": "code",
        "outputId": "6ca53cca-cfe9-4216-a101-630445182877",
        "colab": {
          "base_uri": "https://localhost:8080/",
          "height": 34
        }
      },
      "source": [
        "X_test.shape"
      ],
      "execution_count": 9,
      "outputs": [
        {
          "output_type": "execute_result",
          "data": {
            "text/plain": [
              "(10000, 28, 28)"
            ]
          },
          "metadata": {
            "tags": []
          },
          "execution_count": 9
        }
      ]
    },
    {
      "cell_type": "code",
      "metadata": {
        "id": "Z9EHdWOY9ueH",
        "colab_type": "code",
        "outputId": "f8268791-8c03-4de0-bc38-ed2322bef7b9",
        "colab": {
          "base_uri": "https://localhost:8080/",
          "height": 34
        }
      },
      "source": [
        "y_train.shape"
      ],
      "execution_count": 10,
      "outputs": [
        {
          "output_type": "execute_result",
          "data": {
            "text/plain": [
              "(60000,)"
            ]
          },
          "metadata": {
            "tags": []
          },
          "execution_count": 10
        }
      ]
    },
    {
      "cell_type": "code",
      "metadata": {
        "id": "VJ0DIn13ICO_",
        "colab_type": "code",
        "outputId": "510c8066-3a97-454b-bb9b-1c4fb2ca0591",
        "colab": {
          "base_uri": "https://localhost:8080/",
          "height": 34
        }
      },
      "source": [
        "y_test.shape"
      ],
      "execution_count": 11,
      "outputs": [
        {
          "output_type": "execute_result",
          "data": {
            "text/plain": [
              "(10000,)"
            ]
          },
          "metadata": {
            "tags": []
          },
          "execution_count": 11
        }
      ]
    },
    {
      "cell_type": "code",
      "metadata": {
        "id": "I8ckTHipIFYR",
        "colab_type": "code",
        "colab": {}
      },
      "source": [
        "X_train = X_train.astype('float32') / 255\n",
        "X_test = X_test.astype('float32') / 255"
      ],
      "execution_count": 0,
      "outputs": []
    },
    {
      "cell_type": "code",
      "metadata": {
        "id": "2WY4ies-Kn-B",
        "colab_type": "code",
        "colab": {}
      },
      "source": [
        "from keras.utils import np_utils\n",
        "y_train = np_utils.to_categorical(y_train)\n",
        "y_test = np_utils.to_categorical(y_test)"
      ],
      "execution_count": 0,
      "outputs": []
    },
    {
      "cell_type": "code",
      "metadata": {
        "id": "DJ1GJ2w27uoY",
        "colab_type": "code",
        "colab": {}
      },
      "source": [
        "X_train = X_train.reshape(60000,28,28,1)\n",
        "X_test = X_test.reshape(10000,28,28,1)"
      ],
      "execution_count": 0,
      "outputs": []
    },
    {
      "cell_type": "code",
      "metadata": {
        "id": "oZUNGFTY3F18",
        "colab_type": "code",
        "colab": {}
      },
      "source": [
        "X_train = X_train.reshape(60000,784)"
      ],
      "execution_count": 0,
      "outputs": []
    },
    {
      "cell_type": "code",
      "metadata": {
        "id": "S-5Xyb4n3wux",
        "colab_type": "code",
        "colab": {}
      },
      "source": [
        "X_test = X_test.reshape(10000,784)"
      ],
      "execution_count": 0,
      "outputs": []
    },
    {
      "cell_type": "code",
      "metadata": {
        "id": "9AI_1dvbK6z_",
        "colab_type": "code",
        "colab": {}
      },
      "source": [
        "learning_rate = 0.001\n",
        "training_epochs = 2000\n",
        "cost_history = np.empty(shape = [1], dtype = float)\n",
        "n_dim = X_train.shape[1]\n",
        "batch_size = 100"
      ],
      "execution_count": 0,
      "outputs": []
    },
    {
      "cell_type": "code",
      "metadata": {
        "id": "SUb_ezbfK620",
        "colab_type": "code",
        "colab": {}
      },
      "source": [
        "n_hidden_1 = 256\n",
        "n_hidden_2 = 256\n",
        "n_hidden_3 = 256\n",
        "n_hidden_4 = 256\n",
        "n_input = 784\n",
        "n_classes = 10"
      ],
      "execution_count": 0,
      "outputs": []
    },
    {
      "cell_type": "code",
      "metadata": {
        "id": "BI3JCYLDK65n",
        "colab_type": "code",
        "colab": {}
      },
      "source": [
        "x = tf.placeholder(tf.float32, [None, n_input])\n",
        "W = tf.Variable(tf.zeros([n_dim, n_classes]))\n",
        "b = tf.Variable(tf.zeros([n_classes]))\n",
        "y = tf.placeholder(tf.float32, [None, n_classes])"
      ],
      "execution_count": 0,
      "outputs": []
    },
    {
      "cell_type": "code",
      "metadata": {
        "id": "CLV2Qod4K69N",
        "colab_type": "code",
        "colab": {}
      },
      "source": [
        "def multilayer_perceptron(x, weights, biases):\n",
        "\n",
        "    layer_1 = tf.add(tf.matmul(x, weights['h1']), biases['b1'])\n",
        "    layer_1 = tf.nn.sigmoid(layer_1)\n",
        "\n",
        "    layer_2 = tf.add(tf.matmul(layer_1, weights['h2']), biases['b2'])\n",
        "    layer_2 = tf.nn.sigmoid(layer_2)\n",
        "\n",
        "    layer_3 = tf.add(tf.matmul(layer_2, weights['h3']), biases['b3'])\n",
        "    layer_3 = tf.nn.sigmoid(layer_3)\n",
        "\n",
        "    layer_4 = tf.add(tf.matmul(layer_3, weights['h4']), biases['b4'])\n",
        "    layer_4 = tf.nn.sigmoid(layer_4)\n",
        "\n",
        "    out_layer = tf.matmul(layer_4, weights['out']) + biases['out']\n",
        "    return out_layer"
      ],
      "execution_count": 0,
      "outputs": []
    },
    {
      "cell_type": "code",
      "metadata": {
        "id": "db0Adv59OX5B",
        "colab_type": "code",
        "colab": {}
      },
      "source": [
        "# Store layers weight & bias\n",
        "weights = {\n",
        "    'h1': tf.Variable(tf.truncated_normal([n_input, n_hidden_1])),\n",
        "    'h2': tf.Variable(tf.truncated_normal([n_hidden_1, n_hidden_2])),\n",
        "    'h3': tf.Variable(tf.truncated_normal([n_hidden_2, n_hidden_3])),\n",
        "    'h4': tf.Variable(tf.truncated_normal([n_hidden_3, n_hidden_4])),\n",
        "    'out': tf.Variable(tf.truncated_normal([n_hidden_4, n_classes]))}\n",
        "biases = {\n",
        "    'b1': tf.Variable(tf.truncated_normal([n_hidden_1])),\n",
        "    'b2': tf.Variable(tf.truncated_normal([n_hidden_2])),\n",
        "    'b3': tf.Variable(tf.truncated_normal([n_hidden_3])),\n",
        "    'b4': tf.Variable(tf.truncated_normal([n_hidden_4])),\n",
        "    'out': tf.Variable(tf.truncated_normal([n_classes]))}\n",
        "\n",
        "# Construct model\n",
        "pred = multilayer_perceptron(x, weights, biases)"
      ],
      "execution_count": 0,
      "outputs": []
    },
    {
      "cell_type": "code",
      "metadata": {
        "id": "mlNzPi7WOX8W",
        "colab_type": "code",
        "colab": {}
      },
      "source": [
        "# Define loss and optimizer\n",
        "cost = tf.reduce_mean(tf.nn.softmax_cross_entropy_with_logits_v2(logits=pred, labels=y))\n",
        "optimizer = tf.train.GradientDescentOptimizer(learning_rate=learning_rate).minimize(cost)"
      ],
      "execution_count": 0,
      "outputs": []
    },
    {
      "cell_type": "code",
      "metadata": {
        "id": "PkrlNtmyOX_H",
        "colab_type": "code",
        "outputId": "b1f7a48b-0f93-450c-e21b-0a0df7ccef1e",
        "colab": {
          "base_uri": "https://localhost:8080/",
          "height": 185
        }
      },
      "source": [
        "init = tf.global_variables_initializer()\n",
        "cost_history = []\n",
        "accuracy_history = []\n",
        "\n",
        "with tf.Session() as sess:\n",
        "    sess.run(init)\n",
        "\n",
        "    for epoch in range(training_epochs):\n",
        "        avg_cost = 0\n",
        "        total_batch = 600\n",
        "\n",
        "        for i in range(total_batch):\n",
        "          batchs=((X_train[i*100:(i+1)*100],y_train[i*100:(i+1)*100]) for i in range(int(len(y_train)/100)))\n",
        "          batch_x, batch_y = batchs.__next__()\n",
        "          _, c = sess.run([optimizer, cost], feed_dict={x: batch_x, y: batch_y})\n",
        "          # Compute average loss\n",
        "          avg_cost += c / total_batch\n",
        "\n",
        "        # Display logs per epoch step\n",
        "        if epoch % 200 == 0:\n",
        "          correct_prediction = tf.equal(tf.argmax(pred, 1), tf.argmax(y, 1))\n",
        "          # Calculate accuracy\n",
        "          accuracy = tf.reduce_mean(tf.cast(correct_prediction, \"float\"))\n",
        "          acu_temp = accuracy.eval(feed_dict={x: X_test, y: y_test})\n",
        "          #append the accuracy to the list\n",
        "          accuracy_history.append(acu_temp)\n",
        "          #append the cost history\n",
        "          cost_history.append(avg_cost)\n",
        "          print(\"Epoch:\", '%03d' % (epoch), \"- cost=\", \"{:.3f}\".format(avg_cost), \"- Accuracy=\",acu_temp)"
      ],
      "execution_count": 0,
      "outputs": [
        {
          "output_type": "stream",
          "text": [
            "Epoch: 000 - cost= 4.539 - Accuracy= 0.1804\n",
            "Epoch: 200 - cost= 0.003 - Accuracy= 0.3291\n",
            "Epoch: 400 - cost= 0.002 - Accuracy= 0.3388\n",
            "Epoch: 600 - cost= 0.001 - Accuracy= 0.3433\n",
            "Epoch: 800 - cost= 0.001 - Accuracy= 0.3468\n",
            "Epoch: 1000 - cost= 0.001 - Accuracy= 0.3492\n",
            "Epoch: 1200 - cost= 0.001 - Accuracy= 0.3509\n",
            "Epoch: 1400 - cost= 0.001 - Accuracy= 0.3528\n",
            "Epoch: 1600 - cost= 0.001 - Accuracy= 0.3541\n",
            "Epoch: 1800 - cost= 0.001 - Accuracy= 0.3559\n"
          ],
          "name": "stdout"
        }
      ]
    },
    {
      "cell_type": "code",
      "metadata": {
        "id": "SUm1EL30GcpB",
        "colab_type": "code",
        "colab": {}
      },
      "source": [
        ""
      ],
      "execution_count": 0,
      "outputs": []
    },
    {
      "cell_type": "markdown",
      "metadata": {
        "id": "L8wXloXDHWcw",
        "colab_type": "text"
      },
      "source": [
        "Question 3 & 4 (Single Layer Perceptron)"
      ]
    },
    {
      "cell_type": "code",
      "metadata": {
        "id": "RA8peG6mHDCy",
        "colab_type": "code",
        "colab": {}
      },
      "source": [
        "learning_rate = 0.0001\n",
        "training_epochs = 5000\n",
        "cost_history = np.empty(shape = [1], dtype = float)\n",
        "n_dim = X_train.shape[1]\n",
        "batch_size = 100"
      ],
      "execution_count": 0,
      "outputs": []
    },
    {
      "cell_type": "code",
      "metadata": {
        "id": "uleIOt_iHjkq",
        "colab_type": "code",
        "colab": {}
      },
      "source": [
        "n_hidden_1 = 256\n",
        "n_input = 784\n",
        "n_classes = 10"
      ],
      "execution_count": 0,
      "outputs": []
    },
    {
      "cell_type": "code",
      "metadata": {
        "id": "x7-u2lQzx8RU",
        "colab_type": "code",
        "colab": {}
      },
      "source": [
        "x = tf.placeholder(tf.float32, [None, n_input])\n",
        "W = tf.Variable(tf.zeros([n_dim, n_classes]))\n",
        "b = tf.Variable(tf.zeros([n_classes]))\n",
        "y = tf.placeholder(tf.float32, [None, n_classes])"
      ],
      "execution_count": 0,
      "outputs": []
    },
    {
      "cell_type": "code",
      "metadata": {
        "id": "PWKASRPCyB8W",
        "colab_type": "code",
        "colab": {}
      },
      "source": [
        "def singlelayer_perceptron(x, weights, biases):\n",
        "\n",
        "    layer_1 = tf.add(tf.matmul(x, weights['h1']), biases['b1'])\n",
        "    layer_1 = tf.nn.sigmoid(layer_1)\n",
        "\n",
        "    out_layer = tf.matmul(layer_1, weights['out']) + biases['out']\n",
        "    return out_layer"
      ],
      "execution_count": 0,
      "outputs": []
    },
    {
      "cell_type": "code",
      "metadata": {
        "id": "KUOvISl6zAdO",
        "colab_type": "code",
        "colab": {}
      },
      "source": [
        "weights = {\n",
        "    'h1': tf.Variable(tf.truncated_normal([n_input, n_hidden_1])),\n",
        "    'out': tf.Variable(tf.truncated_normal([n_hidden_1, n_classes]))}\n",
        "biases = {\n",
        "    'b1': tf.Variable(tf.truncated_normal([n_hidden_1])),\n",
        "    'out': tf.Variable(tf.truncated_normal([n_classes]))}\n",
        "\n",
        "pred = singlelayer_perceptron(x, weights, biases)"
      ],
      "execution_count": 0,
      "outputs": []
    },
    {
      "cell_type": "code",
      "metadata": {
        "id": "xoVTm8-dzcvv",
        "colab_type": "code",
        "colab": {}
      },
      "source": [
        "cost = tf.reduce_mean(tf.nn.softmax_cross_entropy_with_logits_v2(logits=pred, labels=y))\n",
        "optimizer = tf.train.AdamOptimizer(learning_rate=learning_rate).minimize(cost)"
      ],
      "execution_count": 0,
      "outputs": []
    },
    {
      "cell_type": "code",
      "metadata": {
        "id": "Kq5mM3XF0Ycp",
        "colab_type": "code",
        "colab": {
          "base_uri": "https://localhost:8080/",
          "height": 437
        },
        "outputId": "c1cde8ab-6aef-4dbe-adee-6aa912cc9511"
      },
      "source": [
        "init = tf.global_variables_initializer()\n",
        "cost_history = []\n",
        "accuracy_history = []\n",
        "\n",
        "with tf.Session() as sess:\n",
        "    sess.run(init)\n",
        "\n",
        "    for epoch in range(training_epochs):\n",
        "        avg_cost = 0\n",
        "        total_batch = 600\n",
        "\n",
        "        for i in range(total_batch):\n",
        "          batchs=((X_train[i*100:(i+1)*100],y_train[i*100:(i+1)*100]) for i in range(int(len(y_train)/100)))\n",
        "          batch_x, batch_y = batchs.__next__()\n",
        "          _, c = sess.run([optimizer, cost], feed_dict={x: batch_x, y: batch_y})\n",
        "          # Compute average loss\n",
        "          avg_cost += c / total_batch\n",
        "\n",
        "        # Display logs per epoch step\n",
        "        if epoch % 200 == 0:\n",
        "          correct_prediction = tf.equal(tf.argmax(pred, 1), tf.argmax(y, 1))\n",
        "          # Calculate accuracy\n",
        "          accuracy = tf.reduce_mean(tf.cast(correct_prediction, \"float\"))\n",
        "          acu_temp = accuracy.eval(feed_dict={x: X_test, y: y_test})\n",
        "          #append the accuracy to the list\n",
        "          accuracy_history.append(acu_temp)\n",
        "          #append the cost history\n",
        "          cost_history.append(avg_cost)\n",
        "          print(\"Epoch:\", '%03d' % (epoch), \"- cost=\", \"{:.3f}\".format(avg_cost), \"- Accuracy=\",acu_temp)"
      ],
      "execution_count": 27,
      "outputs": [
        {
          "output_type": "stream",
          "text": [
            "Epoch: 000 - cost= 2.197 - Accuracy= 0.4179\n",
            "Epoch: 200 - cost= 0.000 - Accuracy= 0.6464\n",
            "Epoch: 400 - cost= 0.000 - Accuracy= 0.6329\n",
            "Epoch: 600 - cost= 0.000 - Accuracy= 0.5941\n",
            "Epoch: 800 - cost= 0.000 - Accuracy= 0.5856\n",
            "Epoch: 1000 - cost= 0.000 - Accuracy= 0.574\n",
            "Epoch: 1200 - cost= 0.000 - Accuracy= 0.5702\n",
            "Epoch: 1400 - cost= 0.000 - Accuracy= 0.5699\n",
            "Epoch: 1600 - cost= 0.000 - Accuracy= 0.5468\n",
            "Epoch: 1800 - cost= 0.000 - Accuracy= 0.5312\n",
            "Epoch: 2000 - cost= 0.000 - Accuracy= 0.5441\n",
            "Epoch: 2200 - cost= 0.000 - Accuracy= 0.5359\n",
            "Epoch: 2400 - cost= 0.000 - Accuracy= 0.5148\n",
            "Epoch: 2600 - cost= 0.000 - Accuracy= 0.5226\n",
            "Epoch: 2800 - cost= 0.000 - Accuracy= 0.5086\n",
            "Epoch: 3000 - cost= 0.000 - Accuracy= 0.5069\n",
            "Epoch: 3200 - cost= 0.000 - Accuracy= 0.5007\n",
            "Epoch: 3400 - cost= 0.000 - Accuracy= 0.4849\n",
            "Epoch: 3600 - cost= 0.000 - Accuracy= 0.4725\n",
            "Epoch: 3800 - cost= 0.000 - Accuracy= 0.4446\n",
            "Epoch: 4000 - cost= 0.000 - Accuracy= 0.4164\n",
            "Epoch: 4200 - cost= 0.000 - Accuracy= 0.4068\n",
            "Epoch: 4400 - cost= 0.000 - Accuracy= 0.3975\n",
            "Epoch: 4600 - cost= 0.000 - Accuracy= 0.3904\n",
            "Epoch: 4800 - cost= 0.000 - Accuracy= 0.4007\n"
          ],
          "name": "stdout"
        }
      ]
    },
    {
      "cell_type": "code",
      "metadata": {
        "id": "R5QxaOC03yMS",
        "colab_type": "code",
        "colab": {}
      },
      "source": [
        ""
      ],
      "execution_count": 0,
      "outputs": []
    }
  ]
}