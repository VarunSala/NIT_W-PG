{
  "nbformat": 4,
  "nbformat_minor": 0,
  "metadata": {
    "colab": {
      "name": "Assignment2.ipynb",
      "provenance": [],
      "collapsed_sections": []
    },
    "kernelspec": {
      "name": "python3",
      "display_name": "Python 3"
    },
    "accelerator": "GPU"
  },
  "cells": [
    {
      "cell_type": "code",
      "metadata": {
        "id": "r4X1hG58rrmn",
        "colab_type": "code",
        "colab": {}
      },
      "source": [
        "import numpy as np\n",
        "import pandas as pd\n",
        "import matplotlib.pyplot as plt\n",
        "import tensorflow as tf"
      ],
      "execution_count": 0,
      "outputs": []
    },
    {
      "cell_type": "code",
      "metadata": {
        "id": "w79jzhAhr5O2",
        "colab_type": "code",
        "outputId": "393bc690-3a59-4819-ca12-257deb284d5c",
        "colab": {
          "base_uri": "https://localhost:8080/",
          "height": 373
        }
      },
      "source": [
        "!wget  https://www.dropbox.com/s/n8bninud94blch4/fer2013.csv."
      ],
      "execution_count": 0,
      "outputs": [
        {
          "output_type": "stream",
          "text": [
            "--2020-06-16 05:54:37--  https://www.dropbox.com/s/n8bninud94blch4/fer2013.csv.\n",
            "Resolving www.dropbox.com (www.dropbox.com)... 162.125.67.1, 2620:100:6023:1::a27d:4301\n",
            "Connecting to www.dropbox.com (www.dropbox.com)|162.125.67.1|:443... connected.\n",
            "HTTP request sent, awaiting response... 301 Moved Permanently\n",
            "Location: /s/raw/n8bninud94blch4/fer2013.csv. [following]\n",
            "--2020-06-16 05:54:37--  https://www.dropbox.com/s/raw/n8bninud94blch4/fer2013.csv.\n",
            "Reusing existing connection to www.dropbox.com:443.\n",
            "HTTP request sent, awaiting response... 302 Found\n",
            "Location: https://uc61ef0b682af5c052ca61c1f26b.dl.dropboxusercontent.com/cd/0/inline/A5tkrvoweLwI3XBkLIjXTzRFnAoVpV9L3evD6Jn9DRM1gdwDXo1ZYq9FTLL105S4vYQvcXJtNUdcOarUDdYH_pBrhkf9OXuISefy9bB7Ch-rJNuTkgOH_-tzCgMK22dKRcI/file# [following]\n",
            "--2020-06-16 05:54:38--  https://uc61ef0b682af5c052ca61c1f26b.dl.dropboxusercontent.com/cd/0/inline/A5tkrvoweLwI3XBkLIjXTzRFnAoVpV9L3evD6Jn9DRM1gdwDXo1ZYq9FTLL105S4vYQvcXJtNUdcOarUDdYH_pBrhkf9OXuISefy9bB7Ch-rJNuTkgOH_-tzCgMK22dKRcI/file\n",
            "Resolving uc61ef0b682af5c052ca61c1f26b.dl.dropboxusercontent.com (uc61ef0b682af5c052ca61c1f26b.dl.dropboxusercontent.com)... 162.125.67.15, 2620:100:6023:15::a27d:430f\n",
            "Connecting to uc61ef0b682af5c052ca61c1f26b.dl.dropboxusercontent.com (uc61ef0b682af5c052ca61c1f26b.dl.dropboxusercontent.com)|162.125.67.15|:443... connected.\n",
            "HTTP request sent, awaiting response... 200 OK\n",
            "Length: 301072766 (287M) [text/plain]\n",
            "Saving to: ‘fer2013.csv.’\n",
            "\n",
            "fer2013.csv.        100%[===================>] 287.12M  24.0MB/s    in 12s     \n",
            "\n",
            "2020-06-16 05:54:50 (24.0 MB/s) - ‘fer2013.csv.’ saved [301072766/301072766]\n",
            "\n"
          ],
          "name": "stdout"
        }
      ]
    },
    {
      "cell_type": "code",
      "metadata": {
        "id": "Np8khbrTsC5d",
        "colab_type": "code",
        "outputId": "d22b2793-f2ed-433b-d00e-b7a13fad2cda",
        "colab": {
          "base_uri": "https://localhost:8080/",
          "height": 195
        }
      },
      "source": [
        "data = pd.read_csv('/content/fer2013.csv.')\n",
        "data.head(5)"
      ],
      "execution_count": 0,
      "outputs": [
        {
          "output_type": "execute_result",
          "data": {
            "text/html": [
              "<div>\n",
              "<style scoped>\n",
              "    .dataframe tbody tr th:only-of-type {\n",
              "        vertical-align: middle;\n",
              "    }\n",
              "\n",
              "    .dataframe tbody tr th {\n",
              "        vertical-align: top;\n",
              "    }\n",
              "\n",
              "    .dataframe thead th {\n",
              "        text-align: right;\n",
              "    }\n",
              "</style>\n",
              "<table border=\"1\" class=\"dataframe\">\n",
              "  <thead>\n",
              "    <tr style=\"text-align: right;\">\n",
              "      <th></th>\n",
              "      <th>emotion</th>\n",
              "      <th>pixels</th>\n",
              "      <th>Usage</th>\n",
              "    </tr>\n",
              "  </thead>\n",
              "  <tbody>\n",
              "    <tr>\n",
              "      <th>0</th>\n",
              "      <td>0</td>\n",
              "      <td>70 80 82 72 58 58 60 63 54 58 60 48 89 115 121...</td>\n",
              "      <td>Training</td>\n",
              "    </tr>\n",
              "    <tr>\n",
              "      <th>1</th>\n",
              "      <td>0</td>\n",
              "      <td>151 150 147 155 148 133 111 140 170 174 182 15...</td>\n",
              "      <td>Training</td>\n",
              "    </tr>\n",
              "    <tr>\n",
              "      <th>2</th>\n",
              "      <td>2</td>\n",
              "      <td>231 212 156 164 174 138 161 173 182 200 106 38...</td>\n",
              "      <td>Training</td>\n",
              "    </tr>\n",
              "    <tr>\n",
              "      <th>3</th>\n",
              "      <td>4</td>\n",
              "      <td>24 32 36 30 32 23 19 20 30 41 21 22 32 34 21 1...</td>\n",
              "      <td>Training</td>\n",
              "    </tr>\n",
              "    <tr>\n",
              "      <th>4</th>\n",
              "      <td>6</td>\n",
              "      <td>4 0 0 0 0 0 0 0 0 0 0 0 3 15 23 28 48 50 58 84...</td>\n",
              "      <td>Training</td>\n",
              "    </tr>\n",
              "  </tbody>\n",
              "</table>\n",
              "</div>"
            ],
            "text/plain": [
              "   emotion                                             pixels     Usage\n",
              "0        0  70 80 82 72 58 58 60 63 54 58 60 48 89 115 121...  Training\n",
              "1        0  151 150 147 155 148 133 111 140 170 174 182 15...  Training\n",
              "2        2  231 212 156 164 174 138 161 173 182 200 106 38...  Training\n",
              "3        4  24 32 36 30 32 23 19 20 30 41 21 22 32 34 21 1...  Training\n",
              "4        6  4 0 0 0 0 0 0 0 0 0 0 0 3 15 23 28 48 50 58 84...  Training"
            ]
          },
          "metadata": {
            "tags": []
          },
          "execution_count": 3
        }
      ]
    },
    {
      "cell_type": "code",
      "metadata": {
        "id": "C-5X6z_RtfWN",
        "colab_type": "code",
        "outputId": "617200b8-8985-4abe-a420-0c60976b722b",
        "colab": {
          "base_uri": "https://localhost:8080/",
          "height": 34
        }
      },
      "source": [
        "data.shape"
      ],
      "execution_count": 0,
      "outputs": [
        {
          "output_type": "execute_result",
          "data": {
            "text/plain": [
              "(35887, 3)"
            ]
          },
          "metadata": {
            "tags": []
          },
          "execution_count": 4
        }
      ]
    },
    {
      "cell_type": "code",
      "metadata": {
        "id": "BL0IYF0RP0aX",
        "colab_type": "code",
        "colab": {}
      },
      "source": [
        "num_features = 64\n",
        "num_labels = 7\n",
        "batch_size = 64\n",
        "epochs = 20\n",
        "width, height = 48, 48"
      ],
      "execution_count": 0,
      "outputs": []
    },
    {
      "cell_type": "markdown",
      "metadata": {
        "id": "fIYYbYqg5vu-",
        "colab_type": "text"
      },
      "source": [
        "## Question 1"
      ]
    },
    {
      "cell_type": "code",
      "metadata": {
        "id": "-qeE86BGzx2e",
        "colab_type": "code",
        "colab": {}
      },
      "source": [
        "pixels = data['pixels'].tolist()\n",
        "\n",
        "faces = []\n",
        "for pixel_sequence in pixels:\n",
        "    face = [int(pixel) for pixel in pixel_sequence.split(' ')]\n",
        "    face = np.asarray(face).reshape(width, height)\n",
        "    faces.append(face.astype('float32') / 255)\n",
        "\n",
        "faces = np.asarray(faces)\n",
        "faces = np.expand_dims(faces, -1)\n",
        "\n",
        "emotions = pd.get_dummies(data['emotion'])"
      ],
      "execution_count": 0,
      "outputs": []
    },
    {
      "cell_type": "markdown",
      "metadata": {
        "id": "288cjGtp56jP",
        "colab_type": "text"
      },
      "source": [
        "## Question 2"
      ]
    },
    {
      "cell_type": "code",
      "metadata": {
        "id": "xQ7JX8gB56Dw",
        "colab_type": "code",
        "colab": {}
      },
      "source": [
        "from sklearn.model_selection import train_test_split"
      ],
      "execution_count": 0,
      "outputs": []
    },
    {
      "cell_type": "code",
      "metadata": {
        "id": "n0cXmZxs43te",
        "colab_type": "code",
        "colab": {}
      },
      "source": [
        "X_train, X_test, y_train, y_test = train_test_split(faces, emotions, test_size=0.1, random_state=42)\n",
        "X_train, X_val, y_train, y_val = train_test_split(X_train, y_train, test_size=0.1, random_state=41)"
      ],
      "execution_count": 0,
      "outputs": []
    },
    {
      "cell_type": "markdown",
      "metadata": {
        "id": "qHyUCq-XQcNt",
        "colab_type": "text"
      },
      "source": [
        "## Question 3 & 4"
      ]
    },
    {
      "cell_type": "code",
      "metadata": {
        "id": "T3lYS8ao6qND",
        "colab_type": "code",
        "outputId": "f1a27aac-3d2d-4830-faca-6f9d115a7e64",
        "colab": {
          "base_uri": "https://localhost:8080/",
          "height": 34
        }
      },
      "source": [
        "from tensorflow.keras.models import Sequential\n",
        "from tensorflow.keras.layers import Dense, Conv2D, Flatten, Activation, BatchNormalization, Dropout, MaxPool2D\n",
        "from keras.regularizers import l2\n",
        "from keras.optimizers import Adam\n",
        "from keras.callbacks import ReduceLROnPlateau, TensorBoard, EarlyStopping, ModelCheckpoint"
      ],
      "execution_count": 0,
      "outputs": [
        {
          "output_type": "stream",
          "text": [
            "Using TensorFlow backend.\n"
          ],
          "name": "stderr"
        }
      ]
    },
    {
      "cell_type": "code",
      "metadata": {
        "id": "HDzB7DIYRMG-",
        "colab_type": "code",
        "colab": {}
      },
      "source": [
        "model = Sequential()\n",
        "model.add(Conv2D(num_features, kernel_size=(5,5), activation='relu', input_shape=X_train.shape[1:], data_format='channels_last', kernel_regularizer=l2(0.01)))\n",
        "model.add(Conv2D(num_features, kernel_size=(5,5), activation='relu', padding='same'))\n",
        "model.add(BatchNormalization())\n",
        "model.add(MaxPool2D(pool_size=(2,2), strides=(2,2)))\n",
        "model.add(Dropout(0.5))\n",
        "\n",
        "model.add(Conv2D(128, kernel_size=(5,5), activation='relu', padding='same'))\n",
        "model.add(Conv2D(128, kernel_size=(5,5), activation='relu', padding='same'))\n",
        "model.add(BatchNormalization())\n",
        "model.add(MaxPool2D(pool_size=(2,2), strides=(2,2)))\n",
        "model.add(Dropout(0.5))\n",
        "\n",
        "model.add(Conv2D(256, kernel_size=(3,3), activation='relu', padding='same'))\n",
        "model.add(Conv2D(256, kernel_size=(3,3), activation='relu', padding='same'))\n",
        "model.add(BatchNormalization())\n",
        "model.add(MaxPool2D(pool_size=(2,2), strides=(2,2)))\n",
        "model.add(Dropout(0.5))\n",
        "\n",
        "model.add(Flatten())\n",
        "model.add(Dense(128))\n",
        "model.add(BatchNormalization())\n",
        "model.add(Activation('relu'))\n",
        "model.add(Dropout(0.25))\n",
        "model.add(Dense(num_labels, activation='softmax'))\n",
        "\n",
        "model.compile(optimizer='adam', loss = 'categorical_crossentropy', metrics=['accuracy'])"
      ],
      "execution_count": 0,
      "outputs": []
    },
    {
      "cell_type": "code",
      "metadata": {
        "id": "pQcVN9ysbyAM",
        "colab_type": "code",
        "outputId": "258f1867-6c66-4480-80a7-15570adbabff",
        "colab": {
          "base_uri": "https://localhost:8080/",
          "height": 857
        }
      },
      "source": [
        "model.summary()"
      ],
      "execution_count": 0,
      "outputs": [
        {
          "output_type": "stream",
          "text": [
            "Model: \"sequential\"\n",
            "_________________________________________________________________\n",
            "Layer (type)                 Output Shape              Param #   \n",
            "=================================================================\n",
            "conv2d (Conv2D)              (None, 44, 44, 64)        1664      \n",
            "_________________________________________________________________\n",
            "conv2d_1 (Conv2D)            (None, 44, 44, 64)        102464    \n",
            "_________________________________________________________________\n",
            "batch_normalization (BatchNo (None, 44, 44, 64)        256       \n",
            "_________________________________________________________________\n",
            "max_pooling2d (MaxPooling2D) (None, 22, 22, 64)        0         \n",
            "_________________________________________________________________\n",
            "dropout (Dropout)            (None, 22, 22, 64)        0         \n",
            "_________________________________________________________________\n",
            "conv2d_2 (Conv2D)            (None, 22, 22, 128)       204928    \n",
            "_________________________________________________________________\n",
            "conv2d_3 (Conv2D)            (None, 22, 22, 128)       409728    \n",
            "_________________________________________________________________\n",
            "batch_normalization_1 (Batch (None, 22, 22, 128)       512       \n",
            "_________________________________________________________________\n",
            "max_pooling2d_1 (MaxPooling2 (None, 11, 11, 128)       0         \n",
            "_________________________________________________________________\n",
            "dropout_1 (Dropout)          (None, 11, 11, 128)       0         \n",
            "_________________________________________________________________\n",
            "conv2d_4 (Conv2D)            (None, 11, 11, 256)       295168    \n",
            "_________________________________________________________________\n",
            "conv2d_5 (Conv2D)            (None, 11, 11, 256)       590080    \n",
            "_________________________________________________________________\n",
            "batch_normalization_2 (Batch (None, 11, 11, 256)       1024      \n",
            "_________________________________________________________________\n",
            "max_pooling2d_2 (MaxPooling2 (None, 5, 5, 256)         0         \n",
            "_________________________________________________________________\n",
            "dropout_2 (Dropout)          (None, 5, 5, 256)         0         \n",
            "_________________________________________________________________\n",
            "flatten (Flatten)            (None, 6400)              0         \n",
            "_________________________________________________________________\n",
            "dense (Dense)                (None, 128)               819328    \n",
            "_________________________________________________________________\n",
            "batch_normalization_3 (Batch (None, 128)               512       \n",
            "_________________________________________________________________\n",
            "activation (Activation)      (None, 128)               0         \n",
            "_________________________________________________________________\n",
            "dropout_3 (Dropout)          (None, 128)               0         \n",
            "_________________________________________________________________\n",
            "dense_1 (Dense)              (None, 7)                 903       \n",
            "=================================================================\n",
            "Total params: 2,426,567\n",
            "Trainable params: 2,425,415\n",
            "Non-trainable params: 1,152\n",
            "_________________________________________________________________\n"
          ],
          "name": "stdout"
        }
      ]
    },
    {
      "cell_type": "markdown",
      "metadata": {
        "id": "8fhqFm1Berrd",
        "colab_type": "text"
      },
      "source": [
        "## Question 5"
      ]
    },
    {
      "cell_type": "code",
      "metadata": {
        "id": "LGNAG801dulK",
        "colab_type": "code",
        "outputId": "a9063308-fd1f-4d20-c346-6eccbf687536",
        "colab": {
          "base_uri": "https://localhost:8080/",
          "height": 706
        }
      },
      "source": [
        "model.fit(X_train, y_train, batch_size=batch_size, epochs=epochs, verbose=1)"
      ],
      "execution_count": 0,
      "outputs": [
        {
          "output_type": "stream",
          "text": [
            "Epoch 1/20\n",
            "455/455 [==============================] - 33s 72ms/step - loss: 1.6966 - accuracy: 0.3401\n",
            "Epoch 2/20\n",
            "455/455 [==============================] - 32s 70ms/step - loss: 1.5261 - accuracy: 0.4165\n",
            "Epoch 3/20\n",
            "455/455 [==============================] - 32s 71ms/step - loss: 1.4138 - accuracy: 0.4593\n",
            "Epoch 4/20\n",
            "455/455 [==============================] - 32s 70ms/step - loss: 1.3277 - accuracy: 0.4982\n",
            "Epoch 5/20\n",
            "455/455 [==============================] - 32s 71ms/step - loss: 1.2616 - accuracy: 0.5214\n",
            "Epoch 6/20\n",
            "455/455 [==============================] - 32s 70ms/step - loss: 1.2171 - accuracy: 0.5360\n",
            "Epoch 7/20\n",
            "455/455 [==============================] - 32s 70ms/step - loss: 1.1755 - accuracy: 0.5528\n",
            "Epoch 8/20\n",
            "455/455 [==============================] - 32s 70ms/step - loss: 1.1423 - accuracy: 0.5695\n",
            "Epoch 9/20\n",
            "455/455 [==============================] - 32s 70ms/step - loss: 1.1076 - accuracy: 0.5807\n",
            "Epoch 10/20\n",
            "455/455 [==============================] - 32s 70ms/step - loss: 1.0770 - accuracy: 0.5967\n",
            "Epoch 11/20\n",
            "455/455 [==============================] - 32s 70ms/step - loss: 1.0434 - accuracy: 0.6086\n",
            "Epoch 12/20\n",
            "455/455 [==============================] - 32s 70ms/step - loss: 1.0116 - accuracy: 0.6197\n",
            "Epoch 13/20\n",
            "455/455 [==============================] - 32s 70ms/step - loss: 0.9891 - accuracy: 0.6285\n",
            "Epoch 14/20\n",
            "455/455 [==============================] - 32s 70ms/step - loss: 0.9652 - accuracy: 0.6370\n",
            "Epoch 15/20\n",
            "455/455 [==============================] - 32s 70ms/step - loss: 0.9338 - accuracy: 0.6530\n",
            "Epoch 16/20\n",
            "455/455 [==============================] - 32s 70ms/step - loss: 0.9117 - accuracy: 0.6569\n",
            "Epoch 17/20\n",
            "455/455 [==============================] - 32s 70ms/step - loss: 0.8891 - accuracy: 0.6709\n",
            "Epoch 18/20\n",
            "455/455 [==============================] - 32s 70ms/step - loss: 0.8627 - accuracy: 0.6782\n",
            "Epoch 19/20\n",
            "455/455 [==============================] - 32s 70ms/step - loss: 0.8420 - accuracy: 0.6855\n",
            "Epoch 20/20\n",
            "455/455 [==============================] - 32s 70ms/step - loss: 0.8154 - accuracy: 0.6986\n"
          ],
          "name": "stdout"
        },
        {
          "output_type": "execute_result",
          "data": {
            "text/plain": [
              "<tensorflow.python.keras.callbacks.History at 0x7f2188657cf8>"
            ]
          },
          "metadata": {
            "tags": []
          },
          "execution_count": 14
        }
      ]
    },
    {
      "cell_type": "code",
      "metadata": {
        "id": "S30fGI29_20b",
        "colab_type": "code",
        "outputId": "ee70c192-793f-4a6f-fb52-5906b5779a24",
        "colab": {
          "base_uri": "https://localhost:8080/",
          "height": 34
        }
      },
      "source": [
        "scores = model.evaluate(np.array(X_test), np.array(y_test), batch_size=batch_size)"
      ],
      "execution_count": 0,
      "outputs": [
        {
          "output_type": "stream",
          "text": [
            "57/57 [==============================] - 1s 23ms/step - loss: 1.0528 - accuracy: 0.6258\n"
          ],
          "name": "stdout"
        }
      ]
    },
    {
      "cell_type": "code",
      "metadata": {
        "id": "UP41i75Ni_tz",
        "colab_type": "code",
        "colab": {}
      },
      "source": [
        "from sklearn.metrics import confusion_matrix"
      ],
      "execution_count": 0,
      "outputs": []
    },
    {
      "cell_type": "code",
      "metadata": {
        "id": "ee3IFyOft34W",
        "colab_type": "code",
        "colab": {}
      },
      "source": [
        "predicted = model.predict_classes(X_test)"
      ],
      "execution_count": 0,
      "outputs": []
    },
    {
      "cell_type": "code",
      "metadata": {
        "id": "VMvWcS0Iw6Pg",
        "colab_type": "code",
        "colab": {}
      },
      "source": [
        "y_test = np.argmax(y_test, axis=-1)"
      ],
      "execution_count": 0,
      "outputs": []
    },
    {
      "cell_type": "markdown",
      "metadata": {
        "id": "-UbKNeb11nWi",
        "colab_type": "text"
      },
      "source": [
        "## Question 6 & 7"
      ]
    },
    {
      "cell_type": "code",
      "metadata": {
        "id": "HwhXWgas0yon",
        "colab_type": "code",
        "outputId": "07c3b569-2cbc-4387-b1c2-e6adc7338acc",
        "colab": {
          "base_uri": "https://localhost:8080/",
          "height": 34
        }
      },
      "source": [
        "model.save(\"model.h5\")\n",
        "print(\"Saved model to disk\")"
      ],
      "execution_count": 0,
      "outputs": [
        {
          "output_type": "stream",
          "text": [
            "Saved model to disk\n"
          ],
          "name": "stdout"
        }
      ]
    },
    {
      "cell_type": "code",
      "metadata": {
        "id": "P5z8LVO92Qd3",
        "colab_type": "code",
        "colab": {}
      },
      "source": [
        "from keras import backend as K\n",
        "def freeze_session(session, keep_var_names=None, output_names=None, clear_devices=True):\n",
        "    graph = session.graph\n",
        "    with graph.as_default():\n",
        "        freeze_var_names = list(set(v.op.name for v in tf.compat.v1.global_variables()).difference(keep_var_names or []))\n",
        "        output_names = output_names or []\n",
        "        output_names += [v.op.name for v in tf.compat.v1.global_variables()]\n",
        "        input_graph_def = graph.as_graph_def()\n",
        "        if clear_devices:\n",
        "            for node in input_graph_def.node:\n",
        "                node.device = ''\n",
        "        frozen_graph = tf.compat.v1.graph_util.convert_variables_to_constants(\n",
        "            session, input_graph_def, output_names, freeze_var_names)\n",
        "        return frozen_graph\n",
        "frozen_graph = freeze_session(tf.compat.v1.keras.backend.get_session(),output_names=[out.op.name for out in model.outputs])\n",
        "tf.train.write_graph(frozen_graph, '/content', 'fer.pb', as_text=False)"
      ],
      "execution_count": 0,
      "outputs": []
    }
  ]
}