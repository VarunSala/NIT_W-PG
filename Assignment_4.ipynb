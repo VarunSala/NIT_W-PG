{
  "nbformat": 4,
  "nbformat_minor": 0,
  "metadata": {
    "colab": {
      "name": "Assignment-4.ipynb",
      "provenance": [],
      "collapsed_sections": []
    },
    "kernelspec": {
      "name": "python3",
      "display_name": "Python 3"
    },
    "accelerator": "GPU"
  },
  "cells": [
    {
      "cell_type": "code",
      "metadata": {
        "id": "m6X5F8VRa4tv",
        "colab_type": "code",
        "colab": {}
      },
      "source": [
        "import tensorflow as tf\n",
        "import numpy as np\n",
        "import pandas as pd"
      ],
      "execution_count": 1,
      "outputs": []
    },
    {
      "cell_type": "code",
      "metadata": {
        "id": "uk_3F64MbSKB",
        "colab_type": "code",
        "colab": {}
      },
      "source": [
        "from tensorflow.keras.datasets import fashion_mnist"
      ],
      "execution_count": 2,
      "outputs": []
    },
    {
      "cell_type": "code",
      "metadata": {
        "id": "0FoegXIEbsMA",
        "colab_type": "code",
        "colab": {}
      },
      "source": [
        "(X_train, y_train), (X_test, y_test) = fashion_mnist.load_data()"
      ],
      "execution_count": 3,
      "outputs": []
    },
    {
      "cell_type": "code",
      "metadata": {
        "id": "jBm7hxkfckAu",
        "colab_type": "code",
        "colab": {
          "base_uri": "https://localhost:8080/",
          "height": 34
        },
        "outputId": "56f07dad-f5b9-4a38-de44-117e23a7d1db"
      },
      "source": [
        "X_train.shape"
      ],
      "execution_count": 4,
      "outputs": [
        {
          "output_type": "execute_result",
          "data": {
            "text/plain": [
              "(60000, 28, 28)"
            ]
          },
          "metadata": {
            "tags": []
          },
          "execution_count": 4
        }
      ]
    },
    {
      "cell_type": "code",
      "metadata": {
        "id": "OBmgfTP3cnqp",
        "colab_type": "code",
        "colab": {
          "base_uri": "https://localhost:8080/",
          "height": 34
        },
        "outputId": "776c484a-17f6-4ffc-ad69-2328b430fff1"
      },
      "source": [
        "X_test.shape"
      ],
      "execution_count": 5,
      "outputs": [
        {
          "output_type": "execute_result",
          "data": {
            "text/plain": [
              "(10000, 28, 28)"
            ]
          },
          "metadata": {
            "tags": []
          },
          "execution_count": 5
        }
      ]
    },
    {
      "cell_type": "code",
      "metadata": {
        "id": "7VV6xd0Rn08p",
        "colab_type": "code",
        "colab": {
          "base_uri": "https://localhost:8080/",
          "height": 34
        },
        "outputId": "cc9f94c5-4729-4891-b1f8-c92148ac6cce"
      },
      "source": [
        "y_train.shape"
      ],
      "execution_count": 6,
      "outputs": [
        {
          "output_type": "execute_result",
          "data": {
            "text/plain": [
              "(60000,)"
            ]
          },
          "metadata": {
            "tags": []
          },
          "execution_count": 6
        }
      ]
    },
    {
      "cell_type": "code",
      "metadata": {
        "id": "d6EISOHjoGHD",
        "colab_type": "code",
        "colab": {}
      },
      "source": [
        "X_train = X_train.reshape(X_train.shape[0], 28, 28, 1)"
      ],
      "execution_count": 7,
      "outputs": []
    },
    {
      "cell_type": "code",
      "metadata": {
        "id": "BVWxq4QLoGDA",
        "colab_type": "code",
        "colab": {
          "base_uri": "https://localhost:8080/",
          "height": 34
        },
        "outputId": "02c3d034-e76d-4ad8-f1c0-55ef2b91ccd8"
      },
      "source": [
        "X_train.shape"
      ],
      "execution_count": 8,
      "outputs": [
        {
          "output_type": "execute_result",
          "data": {
            "text/plain": [
              "(60000, 28, 28, 1)"
            ]
          },
          "metadata": {
            "tags": []
          },
          "execution_count": 8
        }
      ]
    },
    {
      "cell_type": "code",
      "metadata": {
        "id": "eb_vPy6qof2A",
        "colab_type": "code",
        "colab": {}
      },
      "source": [
        "X_train = (X_train - 127.5) / 127.5"
      ],
      "execution_count": 9,
      "outputs": []
    },
    {
      "cell_type": "code",
      "metadata": {
        "id": "aup0OHEoK8dl",
        "colab_type": "code",
        "colab": {}
      },
      "source": [
        "dropout_rate=0.25"
      ],
      "execution_count": 10,
      "outputs": []
    },
    {
      "cell_type": "markdown",
      "metadata": {
        "id": "Yt-saT9De8XE",
        "colab_type": "text"
      },
      "source": [
        "## Question 1"
      ]
    },
    {
      "cell_type": "code",
      "metadata": {
        "id": "Mtmt1lTspmLT",
        "colab_type": "code",
        "colab": {
          "base_uri": "https://localhost:8080/",
          "height": 34
        },
        "outputId": "fdfcc4c4-229c-4193-a4f0-4f778e988166"
      },
      "source": [
        "from keras.models import Model\n",
        "from keras.layers import Input,Reshape,Dense,Dropout,Activation,Flatten,LeakyReLU,Conv2D, MaxPool2D, ZeroPadding2D, UpSampling2D,BatchNormalization"
      ],
      "execution_count": 11,
      "outputs": [
        {
          "output_type": "stream",
          "text": [
            "Using TensorFlow backend.\n"
          ],
          "name": "stderr"
        }
      ]
    },
    {
      "cell_type": "code",
      "metadata": {
        "id": "PpmIxEscn_N1",
        "colab_type": "code",
        "colab": {
          "base_uri": "https://localhost:8080/",
          "height": 776
        },
        "outputId": "fe5c4ce8-67a8-45f9-a0c4-7467ad775732"
      },
      "source": [
        "nch = 200\n",
        "g_input = Input(shape=[100])\n",
        "H = Dense(nch*14*14, init='glorot_normal')(g_input)\n",
        "H = BatchNormalization()(H)\n",
        "H = Activation('relu')(H)\n",
        "H = Reshape([nch, 14, 14])(H)\n",
        "H = UpSampling2D(size=(2,2))(H)\n",
        "H = Conv2D(int(nch/2), kernel_size=(3,3), border_mode='same', init='glorot_uniform')(H)\n",
        "H = BatchNormalization()(H)\n",
        "H = Activation('relu')(H)\n",
        "H = Conv2D(int(nch/4), kernel_size=(3,3), border_mode='same',init='glorot_uniform')(H)\n",
        "H = BatchNormalization()(H)\n",
        "H = Activation('relu')(H)\n",
        "H = Conv2D(1, kernel_size=(1,1), border_mode='same',init='glorot_uniform')(H)\n",
        "g_out = Activation('sigmoid')(H)\n",
        "generator = Model(g_input, g_out)\n",
        "generator.compile(loss='binary_crossentropy', optimizer='adam')\n",
        "generator.summary()"
      ],
      "execution_count": 12,
      "outputs": [
        {
          "output_type": "stream",
          "text": [
            "/usr/local/lib/python3.6/dist-packages/ipykernel_launcher.py:3: UserWarning: Update your `Dense` call to the Keras 2 API: `Dense(39200, kernel_initializer=\"glorot_normal\")`\n",
            "  This is separate from the ipykernel package so we can avoid doing imports until\n"
          ],
          "name": "stderr"
        },
        {
          "output_type": "stream",
          "text": [
            "Model: \"model_1\"\n",
            "_________________________________________________________________\n",
            "Layer (type)                 Output Shape              Param #   \n",
            "=================================================================\n",
            "input_1 (InputLayer)         (None, 100)               0         \n",
            "_________________________________________________________________\n",
            "dense_1 (Dense)              (None, 39200)             3959200   \n",
            "_________________________________________________________________\n",
            "batch_normalization_1 (Batch (None, 39200)             156800    \n",
            "_________________________________________________________________\n",
            "activation_1 (Activation)    (None, 39200)             0         \n",
            "_________________________________________________________________\n",
            "reshape_1 (Reshape)          (None, 200, 14, 14)       0         \n",
            "_________________________________________________________________\n",
            "up_sampling2d_1 (UpSampling2 (None, 400, 28, 14)       0         \n",
            "_________________________________________________________________\n",
            "conv2d_1 (Conv2D)            (None, 400, 28, 100)      12700     \n",
            "_________________________________________________________________\n",
            "batch_normalization_2 (Batch (None, 400, 28, 100)      400       \n",
            "_________________________________________________________________\n",
            "activation_2 (Activation)    (None, 400, 28, 100)      0         \n",
            "_________________________________________________________________\n",
            "conv2d_2 (Conv2D)            (None, 400, 28, 50)       45050     \n",
            "_________________________________________________________________\n",
            "batch_normalization_3 (Batch (None, 400, 28, 50)       200       \n",
            "_________________________________________________________________\n",
            "activation_3 (Activation)    (None, 400, 28, 50)       0         \n",
            "_________________________________________________________________\n",
            "conv2d_3 (Conv2D)            (None, 400, 28, 1)        51        \n",
            "_________________________________________________________________\n",
            "activation_4 (Activation)    (None, 400, 28, 1)        0         \n",
            "=================================================================\n",
            "Total params: 4,174,401\n",
            "Trainable params: 4,095,701\n",
            "Non-trainable params: 78,700\n",
            "_________________________________________________________________\n"
          ],
          "name": "stdout"
        },
        {
          "output_type": "stream",
          "text": [
            "/usr/local/lib/python3.6/dist-packages/ipykernel_launcher.py:8: UserWarning: Update your `Conv2D` call to the Keras 2 API: `Conv2D(100, kernel_size=(3, 3), padding=\"same\", kernel_initializer=\"glorot_uniform\")`\n",
            "  \n",
            "/usr/local/lib/python3.6/dist-packages/ipykernel_launcher.py:11: UserWarning: Update your `Conv2D` call to the Keras 2 API: `Conv2D(50, kernel_size=(3, 3), padding=\"same\", kernel_initializer=\"glorot_uniform\")`\n",
            "  # This is added back by InteractiveShellApp.init_path()\n",
            "/usr/local/lib/python3.6/dist-packages/ipykernel_launcher.py:14: UserWarning: Update your `Conv2D` call to the Keras 2 API: `Conv2D(1, kernel_size=(1, 1), padding=\"same\", kernel_initializer=\"glorot_uniform\")`\n",
            "  \n"
          ],
          "name": "stderr"
        }
      ]
    },
    {
      "cell_type": "markdown",
      "metadata": {
        "id": "w_mpcpvW8VjH",
        "colab_type": "text"
      },
      "source": [
        "## Question 2"
      ]
    },
    {
      "cell_type": "code",
      "metadata": {
        "id": "O_eho1CTz6y-",
        "colab_type": "code",
        "colab": {
          "base_uri": "https://localhost:8080/",
          "height": 642
        },
        "outputId": "44d75e84-f34b-47f5-fe86-e9e78275f097"
      },
      "source": [
        "shp = X_train.shape[1:]\n",
        "d_input = Input(shape=shp)\n",
        "H = Conv2D(256, kernel_size=(5,5), subsample=(2,2), border_mode='same', activation='relu')(d_input)\n",
        "H = LeakyReLU(0.2)(H)\n",
        "H = Dropout(dropout_rate)(H)\n",
        "H = Conv2D(512, kernel_size=(5,5), subsample=(2,2), border_mode='same', activation='relu')(H)\n",
        "H = LeakyReLU(0.2)(H)\n",
        "H = Dropout(dropout_rate)(H)\n",
        "H = Flatten()(H)\n",
        "H = Dense(256)(H)\n",
        "H = LeakyReLU(0.2)(H)\n",
        "H = Dropout(dropout_rate)(H)\n",
        "d_out = Dense(2, activation='sigmoid')(H)\n",
        "discriminator = Model(d_input, d_out)\n",
        "discriminator.compile(loss='binary_crossentropy', optimizer='adam')\n",
        "discriminator.summary()"
      ],
      "execution_count": 13,
      "outputs": [
        {
          "output_type": "stream",
          "text": [
            "/usr/local/lib/python3.6/dist-packages/ipykernel_launcher.py:3: UserWarning: Update your `Conv2D` call to the Keras 2 API: `Conv2D(256, kernel_size=(5, 5), activation=\"relu\", strides=(2, 2), padding=\"same\")`\n",
            "  This is separate from the ipykernel package so we can avoid doing imports until\n",
            "/usr/local/lib/python3.6/dist-packages/ipykernel_launcher.py:6: UserWarning: Update your `Conv2D` call to the Keras 2 API: `Conv2D(512, kernel_size=(5, 5), activation=\"relu\", strides=(2, 2), padding=\"same\")`\n",
            "  \n"
          ],
          "name": "stderr"
        },
        {
          "output_type": "stream",
          "text": [
            "Model: \"model_2\"\n",
            "_________________________________________________________________\n",
            "Layer (type)                 Output Shape              Param #   \n",
            "=================================================================\n",
            "input_2 (InputLayer)         (None, 28, 28, 1)         0         \n",
            "_________________________________________________________________\n",
            "conv2d_4 (Conv2D)            (None, 14, 14, 256)       6656      \n",
            "_________________________________________________________________\n",
            "leaky_re_lu_1 (LeakyReLU)    (None, 14, 14, 256)       0         \n",
            "_________________________________________________________________\n",
            "dropout_1 (Dropout)          (None, 14, 14, 256)       0         \n",
            "_________________________________________________________________\n",
            "conv2d_5 (Conv2D)            (None, 7, 7, 512)         3277312   \n",
            "_________________________________________________________________\n",
            "leaky_re_lu_2 (LeakyReLU)    (None, 7, 7, 512)         0         \n",
            "_________________________________________________________________\n",
            "dropout_2 (Dropout)          (None, 7, 7, 512)         0         \n",
            "_________________________________________________________________\n",
            "flatten_1 (Flatten)          (None, 25088)             0         \n",
            "_________________________________________________________________\n",
            "dense_2 (Dense)              (None, 256)               6422784   \n",
            "_________________________________________________________________\n",
            "leaky_re_lu_3 (LeakyReLU)    (None, 256)               0         \n",
            "_________________________________________________________________\n",
            "dropout_3 (Dropout)          (None, 256)               0         \n",
            "_________________________________________________________________\n",
            "dense_3 (Dense)              (None, 2)                 514       \n",
            "=================================================================\n",
            "Total params: 9,707,266\n",
            "Trainable params: 9,707,266\n",
            "Non-trainable params: 0\n",
            "_________________________________________________________________\n"
          ],
          "name": "stdout"
        }
      ]
    }
  ]
}